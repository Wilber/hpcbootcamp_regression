{
 "cells": [
  {
   "cell_type": "markdown",
   "id": "ad9ee069-ebd1-475e-a679-1330eb3df114",
   "metadata": {
    "tags": []
   },
   "source": [
    "## An Introduction to Simple Linear Regression\n",
    "\n",
    "In this session, we will introduce the Simple Linear Regression (SLR) Model. \n",
    "\n",
    "Inferences for the simple linear regression model will be discussed. Emphasis will be placed on interpreting regression coefficients.\n",
    "\n",
    "## Objectives\n",
    "\n",
    "Upon successful completion of this session, you should be able to:\n",
    "-   Fit a SLR model to data.\n",
    "-   Use summary statistics from the fit to describe the relationship between a response variable and a predictor variable.\n",
    "-   Interpret model coefficients.\n",
    "\n",
    "### Model definition\n",
    "\n",
    "The goal of a SLR model is to investigate the relationship between the response and the predictor variables. The focus in this session is **linear relationships**.\n",
    "\n",
    "Recall -- from high school algebra -- that the equation of a line describing a linear relation between $x$ and $y$ has the following algebraic form:\n",
    "\n",
    "$y = b + mx$\n",
    "\n",
    "where $m$ is the slope and $b$ is the y-intercept.\n",
    "\n",
    "The general form of the simple linear regression model -- for predicting a quantitative response (dependent) $Y$ on the basis of a single predictor (independent) variable $X$ -- closely resembles the equation of a line shown above, such that:\n",
    "\n",
    "$Y = \\beta_0 + \\beta_1 X + \\epsilon$\n",
    "\n",
    "For an individual observation,\n",
    "$y_i = \\beta_0 + \\beta_1 x_i + \\epsilon_i$\n",
    "\n",
    "Where:\n",
    "-   $\\beta_0$ is the is the population y-intercept,\n",
    "-   $\\beta_1$ is the population slope,\n",
    "-   $x_i$ is the *i*th (predictor/independent) observation, and\n",
    "-   $\\epsilon_i$ is the error or deviation of observation $y_i$ from the line $\\beta_0 + \\beta_1 x_i$,\n",
    "-   and $\\epsilon \\sim N (0, \\sigma^2)$\n",
    "\n",
    "Together, $\\beta_0$ and $\\beta_1$ are known as the (unknown) population model ***coefficients*** or ***parameters***.\n",
    "\n",
    "We use training data (or random sample) to produce estimates of the parameters -- $\\hat\\beta_0$ and $\\hat\\beta_1$ to describe the relation between $Y$ and $X$, and make predictions of $\\hat{y_i}$ given $x_i$.\n",
    "\n",
    "#### Fitted Values and Residuals (Errors)\n",
    "\n",
    "The predicted (fitted) value of $Y$ ($\\hat{y_i}$) based on the *i*th value of $X$ ($\\hat{x_i}$) is obtained by:\n",
    "\n",
    "$fit_i=\\hat{y_i} = \\hat\\beta_0 + \\hat\\beta_1 x_i$\n",
    "\n",
    "Then\n",
    "\n",
    "$res_i=\\epsilon_i = y_i - \\hat{y_i}$\n",
    "\n",
    "represents the *i*th residual -- this is the difference between the *i*th observed response value and the *i*th response value that is predicted by our linear model.\n",
    "\n",
    "Residual sum of squares (RSS) is a measure of distance between all responses and their fitted values:\n",
    "$RSS=\\sum_{i=1}^{n}res{_i}{^2}$\n",
    "\n",
    "Least square estimates of $\\beta_0$ and $\\beta_1$ are values of intercept and slope that minimize RSS.\n",
    "\n",
    "#### Model assumptions for simple linear regression\n",
    "\n",
    "In an ideal SLR model, we obtain sub-populations of responses, one for each value of the explanatory/predictor variable.\n",
    "\n",
    "The regression of the response variable $Y$ on the explanatory variable $X$ is a mathematical relationship between the **means** of these sub-populations and the explanatory variable.\n",
    "\n",
    "The simple linear regression model specifies that this relationship is a straight line function of the explanatory variable.\n",
    "\n",
    "The following model assumptions must hold to warrant fitting a SLR model to data:\n",
    "\n",
    "1.  **Normality**: there is a normally distributed sub-population of responses for each value of the explanatory variable.\n",
    "\n",
    "2.  **Linearity**: the means of the sub-populations fall on a straight line function of the explanatory variable.\n",
    "\n",
    "3.  **Constant variance**: the sub-population standard deviations are all equal (to $\\sigma$).\n",
    "\n",
    "4.  **Independence**: the selection of an observation from any of the sub-populations is independent of the selection of any other observation."
   ]
  },
  {
   "cell_type": "code",
   "execution_count": 32,
   "id": "1661d35e-7e58-44f6-a41c-6cc608494d1b",
   "metadata": {
    "tags": []
   },
   "outputs": [],
   "source": [
    "import numpy as np\n",
    "import matplotlib.pyplot as plt\n",
    "import statsmodels \n",
    "import statsmodels.api as sm\n",
    "import statsmodels.formula.api as smf\n",
    "from statsmodels.graphics.regressionplots import abline_plot\n",
    "import pandas as pd\n",
    "import seaborn as sns"
   ]
  },
  {
   "cell_type": "markdown",
   "id": "f24a40fd-7cfb-4c7e-aef3-0e4a857fea4c",
   "metadata": {},
   "source": [
    "## Case Study 1: Is there a statistically significant relationship between height and weight?\n",
    "\n",
    "Suppose we took a ***random*** sample from students at a large university and asked them about their **height** and **weight**. The data can be found [here](https://online.stat.psu.edu/stat500/sites/stat500/files/data/university_ht_wt.TXT). We want to determine and quantify the relationship between height and weight."
   ]
  },
  {
   "cell_type": "code",
   "execution_count": 33,
   "id": "26639a36-4cdb-4443-83c8-93efbed445ca",
   "metadata": {
    "tags": []
   },
   "outputs": [
    {
     "data": {
      "text/html": [
       "<div>\n",
       "<style scoped>\n",
       "    .dataframe tbody tr th:only-of-type {\n",
       "        vertical-align: middle;\n",
       "    }\n",
       "\n",
       "    .dataframe tbody tr th {\n",
       "        vertical-align: top;\n",
       "    }\n",
       "\n",
       "    .dataframe thead th {\n",
       "        text-align: right;\n",
       "    }\n",
       "</style>\n",
       "<table border=\"1\" class=\"dataframe\">\n",
       "  <thead>\n",
       "    <tr style=\"text-align: right;\">\n",
       "      <th></th>\n",
       "      <th>height</th>\n",
       "      <th>weight</th>\n",
       "    </tr>\n",
       "  </thead>\n",
       "  <tbody>\n",
       "    <tr>\n",
       "      <th>0</th>\n",
       "      <td>72.0</td>\n",
       "      <td>200.0</td>\n",
       "    </tr>\n",
       "    <tr>\n",
       "      <th>1</th>\n",
       "      <td>68.0</td>\n",
       "      <td>165.0</td>\n",
       "    </tr>\n",
       "    <tr>\n",
       "      <th>2</th>\n",
       "      <td>69.0</td>\n",
       "      <td>160.0</td>\n",
       "    </tr>\n",
       "    <tr>\n",
       "      <th>3</th>\n",
       "      <td>68.0</td>\n",
       "      <td>135.0</td>\n",
       "    </tr>\n",
       "    <tr>\n",
       "      <th>4</th>\n",
       "      <td>64.0</td>\n",
       "      <td>120.0</td>\n",
       "    </tr>\n",
       "  </tbody>\n",
       "</table>\n",
       "</div>"
      ],
      "text/plain": [
       "   height  weight\n",
       "0    72.0   200.0\n",
       "1    68.0   165.0\n",
       "2    69.0   160.0\n",
       "3    68.0   135.0\n",
       "4    64.0   120.0"
      ]
     },
     "execution_count": 33,
     "metadata": {},
     "output_type": "execute_result"
    }
   ],
   "source": [
    "#Load data from file \n",
    "university_ht_wt = pd.read_csv(\"https://figshare.com/ndownloader/files/30850678\")   # read in the data file\n",
    "university_ht_wt.head() "
   ]
  },
  {
   "cell_type": "code",
   "execution_count": 25,
   "id": "b9c54a41-5d2c-454d-bb78-2ac4bc9e6931",
   "metadata": {
    "tags": []
   },
   "outputs": [
    {
     "data": {
      "text/plain": [
       "height    30\n",
       "weight    28\n",
       "dtype: int64"
      ]
     },
     "execution_count": 25,
     "metadata": {},
     "output_type": "execute_result"
    }
   ],
   "source": [
    "university_ht_wt.count()"
   ]
  },
  {
   "cell_type": "code",
   "execution_count": 26,
   "id": "5af22bf1-cb49-4235-8596-36e210568b23",
   "metadata": {},
   "outputs": [
    {
     "data": {
      "text/plain": [
       "height    28\n",
       "weight    28\n",
       "dtype: int64"
      ]
     },
     "execution_count": 26,
     "metadata": {},
     "output_type": "execute_result"
    }
   ],
   "source": [
    "#drop rows with empty values of weight\n",
    "university_ht_wt['weight'].replace('', np.nan, inplace=True)\n",
    "university_ht_wt.dropna(subset=['weight'], inplace=True)\n",
    "university_ht_wt.count()"
   ]
  },
  {
   "cell_type": "markdown",
   "id": "af724e40-8202-4f54-802e-1ea8f847ffb9",
   "metadata": {},
   "source": [
    "### Linearity\n",
    "\n",
    "The relationship between $X$ and $Y$ must be linear. Check this assumption by examining a scatterplot of x and y."
   ]
  },
  {
   "cell_type": "code",
   "execution_count": 27,
   "id": "9f0c8712-ca96-4731-b4fa-abb0b5b65bf7",
   "metadata": {
    "tags": []
   },
   "outputs": [
    {
     "data": {
      "text/plain": [
       "<Axes: xlabel='height', ylabel='weight'>"
      ]
     },
     "execution_count": 27,
     "metadata": {},
     "output_type": "execute_result"
    },
    {
     "data": {
      "image/png": "[encoded data removed]",
      "text/plain": [
       "<Figure size 640x480 with 1 Axes>"
      ]
     },
     "metadata": {},
     "output_type": "display_data"
    }
   ],
   "source": [
    "sns.scatterplot(data=university_ht_wt, x=\"height\", y=\"weight\")"
   ]
  },
  {
   "cell_type": "markdown",
   "id": "201b16f2-33a8-49e8-8400-588fa229a6c8",
   "metadata": {},
   "source": [
    "### Independence of errors\n",
    "\n",
    "We make sure there is no relationship between the residuals and the $Y$ variable; in other words, $Y$ is independent of errors. \n",
    "\n",
    "Check this assumption by examining a scatterplot of \"residuals versus fits\"; the correlation should be approximately 0.\n",
    "\n",
    "### Equal variances\n",
    "\n",
    "The variance of the residuals is the same for all values of $Y$. \n",
    "\n",
    "Check this assumption by examining the scatterplot of \"residuals versus fits\"; the variance of the residuals should be the same across all values of the x-axis. If the plot shows a pattern (e.g., bowtie or megaphone shape), then variances are not consistent, and this assumption has not been met."
   ]
  },
  {
   "cell_type": "code",
   "execution_count": 28,
   "id": "f7af603a-1876-4b86-855a-f11b6ac1dd7c",
   "metadata": {
    "tags": []
   },
   "outputs": [
    {
     "data": {
      "text/plain": [
       "<Axes: xlabel='height', ylabel='weight'>"
      ]
     },
     "execution_count": 28,
     "metadata": {},
     "output_type": "execute_result"
    },
    {
     "data": {
      "image/png": "[encoded data removed]",
      "text/plain": [
       "<Figure size 640x480 with 1 Axes>"
      ]
     },
     "metadata": {},
     "output_type": "display_data"
    }
   ],
   "source": [
    "sns.residplot(data=university_ht_wt, x=\"height\", y=\"weight\")"
   ]
  },
  {
   "cell_type": "markdown",
   "id": "c2e2fe0e-9ffc-4a69-85f8-dea04749739c",
   "metadata": {},
   "source": [
    "### Normality of errors\n",
    "\n",
    "The residuals must be approximately normally distributed. \n",
    "\n",
    "Check this assumption by examining a normal probability plot (Q-Q plot); the observations should be near the line.\n",
    "\n",
    "Notice below that we first fit a SLR model to data."
   ]
  },
  {
   "cell_type": "code",
   "execution_count": 29,
   "id": "9f37d3e6-ec7b-4811-be68-191ff0823706",
   "metadata": {
    "tags": []
   },
   "outputs": [
    {
     "data": {
      "image/png": "[encoded data removed]",
      "text/plain": [
       "<Figure size 640x480 with 1 Axes>"
      ]
     },
     "metadata": {},
     "output_type": "display_data"
    }
   ],
   "source": [
    "fit = smf.ols('weight ~ height', data=university_ht_wt).fit() #fit a SLR model \n",
    "res = fit.resid # residuals\n",
    "fig = sm.qqplot(res)\n",
    "plt.show()"
   ]
  },
  {
   "cell_type": "markdown",
   "id": "a863f262-55f3-4364-8fe1-7e72657844e7",
   "metadata": {},
   "source": [
    "### Research Questions on the student height data\n",
    "\n",
    "#### Is height a significant linear predictor of weight?\n",
    "\n",
    "The regression model that describes the relationship between $weight$ and $height$ variables is:\n",
    "\n",
    "$weight = \\beta_0 + \\beta_1 \\cdot height + \\epsilon$\n",
    "\n",
    "The hypotheses we are testing are:\n",
    "\n",
    "$H_0: \\beta_1 = 0$\n",
    "\n",
    "$H_A: \\beta_1 \\neq 0$\n",
    "\n",
    "We compute a *t-statistic*, given by\n",
    "\n",
    "$t = \\frac{\\hat{\\beta_1} - 0} {SE(\\hat{\\beta_1)}}$\n",
    "\n",
    "which measures the number of standard deviations that $\\hat\\beta_1$ is away from 0.\n",
    "\n",
    "If there really is no relationship between $X$ and $Y$ , then we expect that the *t-statistic* will have a *t*-distribution with *n*−2 degrees of freedom.\n",
    "\n",
    "The *t*-distribution has a bell shape and for values of *n* greater than approximately 30 and is quite similar to the standard normal distribution. Consequently, it is a simple matter to compute the probability of observing any number equal to *\\|t\\|* or larger in absolute value, assuming $\\beta_1 = 0$. We call this probability the p-value. \n",
    "\n",
    "Roughly speaking, we interpret the p-value as follows: **a small p-value indicates that it is unlikely to observe such a substantial association between the predictor and the response due to chance, in the absence of any real association between the predictor and the response.**\n",
    "\n",
    "We obtain the model summary from the previous fit of model to the (presumably random) sample from the population:"
   ]
  },
  {
   "cell_type": "code",
   "execution_count": 17,
   "id": "8956655e-a683-4a59-8598-090c2d2d632f",
   "metadata": {
    "tags": []
   },
   "outputs": [
    {
     "name": "stdout",
     "output_type": "stream",
     "text": [
      "                            OLS Regression Results                            \n",
      "==============================================================================\n",
      "Dep. Variable:                 weight   R-squared:                       0.506\n",
      "Model:                            OLS   Adj. R-squared:                  0.487\n",
      "Method:                 Least Squares   F-statistic:                     26.60\n",
      "Date:                Sun, 06 Aug 2023   Prob (F-statistic):           2.22e-05\n",
      "Time:                        15:47:40   Log-Likelihood:                -121.30\n",
      "No. Observations:                  28   AIC:                             246.6\n",
      "Df Residuals:                      26   BIC:                             249.3\n",
      "Df Model:                           1                                         \n",
      "Covariance Type:            nonrobust                                         \n",
      "==============================================================================\n",
      "                 coef    std err          t      P>|t|      [0.025      0.975]\n",
      "------------------------------------------------------------------------------\n",
      "Intercept   -222.4794     72.421     -3.072      0.005    -371.342     -73.616\n",
      "height         5.4882      1.064      5.158      0.000       3.301       7.676\n",
      "==============================================================================\n",
      "Omnibus:                       13.413   Durbin-Watson:                   1.968\n",
      "Prob(Omnibus):                  0.001   Jarque-Bera (JB):               13.564\n",
      "Skew:                           1.292   Prob(JB):                      0.00113\n",
      "Kurtosis:                       5.224   Cond. No.                     1.37e+03\n",
      "==============================================================================\n",
      "\n",
      "Notes:\n",
      "[1] Standard Errors assume that the covariance matrix of the errors is correctly specified.\n",
      "[2] The condition number is large, 1.37e+03. This might indicate that there are\n",
      "strong multicollinearity or other numerical problems.\n"
     ]
    }
   ],
   "source": [
    "print(fit.summary())"
   ]
  },
  {
   "cell_type": "markdown",
   "id": "6021a786-abc7-4724-bbc8-38c93ab467ab",
   "metadata": {},
   "source": [
    "The regression equation for this fit becomes: \n",
    "\n",
    "**$weight = -222.48 + 5.49 *height$**\n",
    "\n",
    "since the slope ($\\beta_1$) is 5.49, the intercept ($\\beta_0$) is -222.\n",
    "\n",
    "The test for the slope has a p-value of less than 0.001. Therefore, with a significance level of 5% (and even as low as 0.1%), we can conclude that there is enough evidence to suggest that height is a significant linear predictor of weight.\n",
    "\n",
    "Differently stated, **an increase of one inch in height is associated with -- on average -- an increase of 5.488 lbs in weight.**\n",
    "\n",
    "Does $\\beta_0$ have a meaningful interpretation?\n",
    "\n",
    "The intercept is -222. Therefore, when height is equal to 0 (an unlikely scenario), then a person's weight is predicted to be -222 pounds. It is also not possible for someone to have a height of 0 inches or weight of -222 pounds. Therefore, the intercept does not have a valid meaning.\n",
    "\n",
    "#### What's the (95%?) confidence interval for the population slope?\n",
    "\n",
    "A 95% confidence interval is defined as a range of values such that with 95% interval probability, the range will contain the true unknown value of the parameter.\n",
    "\n",
    "For linear regression, the 95% confidence interval for $\\beta_1$ approximately takes the form\n",
    "\n",
    "$\\hat\\beta_1 \\pm t_\\frac{\\alpha}{2} SE(\\hat\\beta_1)$\n",
    "\n",
    "That is, there is approximately a 95% chance that the interval will contain the true value of $\\beta_1$.\n",
    "\n",
    "In the case of the student height-weight data, the 95% confidence interval for $\\beta_1$ (and $\\beta_0$) can be obtained by: "
   ]
  },
  {
   "cell_type": "code",
   "execution_count": 31,
   "id": "dc746bb6-56a0-4329-8619-5a1796be6d82",
   "metadata": {
    "tags": []
   },
   "outputs": [
    {
     "data": {
      "text/html": [
       "<div>\n",
       "<style scoped>\n",
       "    .dataframe tbody tr th:only-of-type {\n",
       "        vertical-align: middle;\n",
       "    }\n",
       "\n",
       "    .dataframe tbody tr th {\n",
       "        vertical-align: top;\n",
       "    }\n",
       "\n",
       "    .dataframe thead th {\n",
       "        text-align: right;\n",
       "    }\n",
       "</style>\n",
       "<table border=\"1\" class=\"dataframe\">\n",
       "  <thead>\n",
       "    <tr style=\"text-align: right;\">\n",
       "      <th></th>\n",
       "      <th>0</th>\n",
       "      <th>1</th>\n",
       "    </tr>\n",
       "  </thead>\n",
       "  <tbody>\n",
       "    <tr>\n",
       "      <th>Intercept</th>\n",
       "      <td>-371.342490</td>\n",
       "      <td>-73.616396</td>\n",
       "    </tr>\n",
       "    <tr>\n",
       "      <th>height</th>\n",
       "      <td>3.300904</td>\n",
       "      <td>7.675504</td>\n",
       "    </tr>\n",
       "  </tbody>\n",
       "</table>\n",
       "</div>"
      ],
      "text/plain": [
       "                    0          1\n",
       "Intercept -371.342490 -73.616396\n",
       "height       3.300904   7.675504"
      ]
     },
     "execution_count": 31,
     "metadata": {},
     "output_type": "execute_result"
    }
   ],
   "source": [
    "fit.conf_int()"
   ]
  }
 ],
 "metadata": {
  "kernelspec": {
   "display_name": "hpc-bootcamp",
   "language": "python",
   "name": "hpc-bootcamp"
  },
  "language_info": {
   "codemirror_mode": {
    "name": "ipython",
    "version": 3
   },
   "file_extension": ".py",
   "mimetype": "text/x-python",
   "name": "python",
   "nbconvert_exporter": "python",
   "pygments_lexer": "ipython3",
   "version": "3.11.4"
  }
 },
 "nbformat": 4,
 "nbformat_minor": 5
}
