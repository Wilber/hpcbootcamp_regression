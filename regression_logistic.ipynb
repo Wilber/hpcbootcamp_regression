{
 "cells": [
  {
   "cell_type": "markdown",
   "id": "ad3c092c-872e-4a0a-a7fe-b879e98f9966",
   "metadata": {},
   "source": [
    "## An Introduction to Logistic Regression\n",
    "\n",
    "In this session, we will introduce the logistic regression model as\n",
    "special case of a linear regression model (a generalized linear model)\n",
    "where the **response variable is categorical**.\n",
    "\n",
    "We will discuss responses in terms of **probabilities and odds**.\n",
    "\n",
    "## Objectives\n",
    "\n",
    "Upon successful completion of this session, you should be able to:\n",
    "\n",
    "-   Understand the basics of the logistic regression model\n",
    "\n",
    "-   Fit a logistic model to data to model a binary response variable as\n",
    "    a function of a set of predictors.\n",
    "\n",
    "-   Interpret coefficients of a logistic regression model: understand odds and odds ratios\n",
    "\n",
    "-   Test and asses model accuracy with drop-in-deviance likelihood ratio\n",
    "    tests\n",
    "\n",
    "## Model definition\n",
    "\n",
    "Logistic regression models a binary response variable as a function of\n",
    "explanatory/predictor variable(s).\n",
    "\n",
    "For instance, given the categorical response variable $Y$ for *Disease\n",
    "State* taking on the values of *Disease* and *No disease*:\n",
    "\n",
    "$\\mathrm{Y} = \\begin{cases} 1 & \\text{Disease} \\\\ 0 & \\text{No disease} \\end{cases}$\n",
    "\n",
    "we no longer model $Y = \\mu(Y|X)$\n",
    "\n",
    "Rather we model ***probability*** that $Y$ belongs to a particular\n",
    "category/class: $Pr(Y = 1| X)$, for instance the probability of\n",
    "developing the disease.\n",
    "\n",
    "For logistic regression --- with one predictor variable --- we model\n",
    "$Pr(Y = 1| X)$ using a function that gives outputs between 0 and 1.\n",
    "\n",
    "The **logistic function** below describes a population proportion or\n",
    "probability as a function of one predictor variable:\n",
    "\n",
    "$Pr(Y = 1| X) = \\frac {exp(\\beta_0 + \\beta_1X_1)} {1 + exp(\\beta_0 + \\beta_1X_1)}$\n",
    "\n",
    "A logistic function is similar to a common S-shaped (sigmoid) curve.\n"
   ]
  },
  {
   "cell_type": "code",
   "execution_count": 2,
   "id": "4faa57f3-6467-40c0-b2c1-8f176ffb7ad2",
   "metadata": {
    "tags": []
   },
   "outputs": [],
   "source": [
    "import numpy as np\n",
    "import matplotlib.pyplot as plt\n",
    "import statsmodels \n",
    "import statsmodels.api as sm\n",
    "import statsmodels.formula.api as smf\n",
    "from statsmodels.graphics.regressionplots import abline_plot\n",
    "import pandas as pd\n",
    "import seaborn as sns"
   ]
  },
  {
   "cell_type": "code",
   "execution_count": 62,
   "id": "1fc94da6-a75a-47b4-a78d-c3f1e96dccca",
   "metadata": {
    "tags": []
   },
   "outputs": [
    {
     "data": {
      "text/plain": [
       "[<matplotlib.lines.Line2D at 0x7f2589092590>]"
      ]
     },
     "execution_count": 62,
     "metadata": {},
     "output_type": "execute_result"
    },
    {
     "data": {
      "image/png": "[encoded data removed]",
      "text/plain": [
       "<Figure size 640x480 with 1 Axes>"
      ]
     },
     "metadata": {},
     "output_type": "display_data"
    }
   ],
   "source": [
    "#define a logistic function\n",
    "def logistic(x):\n",
    "    return 1.0 / (1.0 + np.exp(-x))\n",
    "\n",
    "x=np.linspace(-8, 8, 100)\n",
    "\n",
    "plt.plot(x, logistic(x))"
   ]
  },
  {
   "cell_type": "markdown",
   "id": "63cae60b-92db-46c8-95ac-930c3afe9e54",
   "metadata": {},
   "source": [
    "### The logit function\n",
    "\n",
    "Manipulating the logistic function encountered above yields:\n",
    "\n",
    "$\\frac {Pr(Y = 1| X)}{1-Pr(Y = 1| X)} = e^{\\beta_0 + \\beta_1X}$\n",
    "\n",
    "The quantity $\\frac {Pr(Y = 1| X)}{1-Pr(Y = 1| X)}$ is the **odds**\n",
    "($\\omega$)\n",
    "\n",
    "Taking natural logs yields a **log odds (logit)** function:\n",
    "\n",
    "$ln(\\frac {Pr(Y = 1| X)}{1-Pr(Y = 1| X)}) = ln(\\omega) = \\beta_0 + \\beta_1X$\n",
    "\n",
    "We can now interpret the coefficient $\\beta_1$ of the logit function as\n",
    "follows:\n",
    "\n",
    "**Increasing** $X$ **by one unit changes the log odds by** $\\beta_1$**.\n",
    "Equivalently, it multiplies the odds by $e^{\\beta_1}$**\n",
    "\n",
    "The same formalism extends to multiple *p* predictor variables\n",
    "(continuous and categorical):\n",
    "\n",
    "$ln(\\omega) = \\beta_0 + \\beta_1X_1 + \\beta_2X_2 + ...+\\beta_pX_p$\n",
    "\n",
    "Exponentiating the logit yields the odds:\n",
    "\n",
    "$\\omega = e^{\\beta_0 + \\beta_1X_1 + \\beta_2X_2 + ...+\\beta_pX_p}$\n",
    "\n",
    "We can then compare the odds between different values of a particular\n",
    "predictor $X$, for fixed values of other predictors. \n",
    "\n",
    "For instance, the\n",
    "odds at $X_1=A$ relative to the odds at $X_1=B$ -- for fixed values of\n",
    "other $Xs$ -- is:\n",
    "\n",
    "$\\phi = \\frac {\\omega_A}{\\omega_B} = e^{[\\beta_1(A-B)]}$\n",
    "\n",
    "Unlike the case in simple and multiple linear regression, coefficients\n",
    "in logistic regression are estimated by the maximum likelihood method.\n",
    "\n",
    "### Odds and Odds Ratios (ORs)\n",
    "\n",
    "Consider the following data set showing the number of individuals that\n",
    "developed coronary artery disease (CAD).\n",
    "| Gender    | Disease   | No Disease |\n",
    "|--------|-----------|------------|\n",
    "| Male   | 217 (57%) | 162 (43%)  |\n",
    "| Female | 105 (44%) | 136 (56%)  |\n",
    "\n",
    "\n",
    "Gender is a potential (binary) predictor of CAD, and the response variable\n",
    "is also binary (Disease/No Disease).\n",
    "\n",
    "To determine whether the two variables are independent, we can perform a\n",
    "Chi-square test of independence.\n"
   ]
  },
  {
   "cell_type": "code",
   "execution_count": 61,
   "id": "91070893-f89e-4c67-b48a-d454a4b3dfaf",
   "metadata": {
    "tags": []
   },
   "outputs": [
    {
     "data": {
      "text/html": [
       "<div>\n",
       "<style scoped>\n",
       "    .dataframe tbody tr th:only-of-type {\n",
       "        vertical-align: middle;\n",
       "    }\n",
       "\n",
       "    .dataframe tbody tr th {\n",
       "        vertical-align: top;\n",
       "    }\n",
       "\n",
       "    .dataframe thead th {\n",
       "        text-align: right;\n",
       "    }\n",
       "</style>\n",
       "<table border=\"1\" class=\"dataframe\">\n",
       "  <thead>\n",
       "    <tr style=\"text-align: right;\">\n",
       "      <th></th>\n",
       "      <th>Male</th>\n",
       "      <th>Female</th>\n",
       "    </tr>\n",
       "  </thead>\n",
       "  <tbody>\n",
       "    <tr>\n",
       "      <th>0</th>\n",
       "      <td>162</td>\n",
       "      <td>136</td>\n",
       "    </tr>\n",
       "    <tr>\n",
       "      <th>1</th>\n",
       "      <td>217</td>\n",
       "      <td>105</td>\n",
       "    </tr>\n",
       "  </tbody>\n",
       "</table>\n",
       "</div>"
      ],
      "text/plain": [
       "   Male  Female\n",
       "0   162     136\n",
       "1   217     105"
      ]
     },
     "execution_count": 61,
     "metadata": {},
     "output_type": "execute_result"
    }
   ],
   "source": [
    "cad = pd.DataFrame({\n",
    "    \"Male\": [162, 217],\n",
    "    \"Female\": [136, 105]\n",
    "})\n",
    "cad"
   ]
  },
  {
   "cell_type": "markdown",
   "id": "f559ddd6-2081-49ee-bf2b-558802adc33a",
   "metadata": {},
   "source": [
    "We perform a Chi-square test of independence"
   ]
  },
  {
   "cell_type": "code",
   "execution_count": 63,
   "id": "5bbd57c6-6eb4-4439-a345-3797b795f54f",
   "metadata": {
    "tags": []
   },
   "outputs": [
    {
     "data": {
      "text/plain": [
       "'chi2 = 10.52, p-value = 0.0012'"
      ]
     },
     "execution_count": 63,
     "metadata": {},
     "output_type": "execute_result"
    }
   ],
   "source": [
    "import scipy.stats as ss\n",
    "(chi2, p, df, arr) = ss.chi2_contingency(cad, correction = True)\n",
    "\"chi2 = %4.2f, p-value = %4.4f\" % (chi2, p)"
   ]
  },
  {
   "cell_type": "markdown",
   "id": "9cc34fcb-4e35-43bf-b129-2921051322e3",
   "metadata": {},
   "source": [
    "There's evidence for a significant association between sex and the\n",
    "likelihood of developing CAD (p-value = 0.0012).\n",
    "\n",
    "Since we have only one qualitative predictor (no quantitative\n",
    "predictor), the Chi-square test is sufficient, no need for logistic\n",
    "regression. Otherwise a logistic regression with multiple predictors\n",
    "would be used.\n",
    "\n",
    "Notice how the above test is essentially comparing proportions of two\n",
    "groups (Male and Female), a comparison that is analogous to comparing\n",
    "two means such as in t-tests or SLR model.\n",
    "\n",
    "We can quantify the significant gender effect with Odds ratios.\n",
    "\n",
    "| Gender    | Probability of Disease | Odds ($\\hat\\omega$)     |\n",
    "|--------|------------------------|-------------------------|\n",
    "| Male   | 0.573                  | 0.573/(1-0.573) = 1.341 |\n",
    "| Female | 0.436                  | 0.436/(1-0.436) = 0.773 |\n",
    "\n",
    "$OR = \\hat\\phi = \\frac {\\hat\\omega_M}{\\hat\\omega_F} = 1.341\\div 0.773 = 1.74$\n",
    "\n",
    "The odds of men developing CAD are estimated to be 1.74 times as large\n",
    "as the odds of women.\n",
    "\n",
    "Equivalently, the odds of men developing CAD are\n",
    "($100 \\times (\\hat\\phi - 1) = 100 \\times (1.74 -1)$) 74% greater than\n",
    "the odds of women developing CAD.\n",
    "\n",
    "In the following case study, we incorporate multiple predictors to model\n",
    "their effect on log odds of a binary response variable."
   ]
  },
  {
   "cell_type": "markdown",
   "id": "9f40d3a7-957f-49a2-9b52-9be4e91fe739",
   "metadata": {},
   "source": [
    "## Case Study 3: Sociodemographic predictors of energy insecurity\n",
    "The escalation of energy insecurity poses an increasingly significant public health concern within the low-income communities of the United States. \n",
    "\n",
    "Previous studies have demonstrated a connection between energy insecurity and negative health outcomes, as well as the adoption of perilous coping mechanisms. \n",
    "\n",
    "In this case study, we will assess the prevalence of energy insecurity and analyze the contributing factors behind its occurrence.\n",
    "\n",
    "The data is from [this 2021 publication](https://www.nature.com/articles/s41560-020-00763-9#Sec3)"
   ]
  },
  {
   "cell_type": "code",
   "execution_count": 60,
   "id": "11a545a2-2287-4e89-9b59-277ce048839d",
   "metadata": {
    "tags": []
   },
   "outputs": [
    {
     "data": {
      "text/html": [
       "<div>\n",
       "<style scoped>\n",
       "    .dataframe tbody tr th:only-of-type {\n",
       "        vertical-align: middle;\n",
       "    }\n",
       "\n",
       "    .dataframe tbody tr th {\n",
       "        vertical-align: top;\n",
       "    }\n",
       "\n",
       "    .dataframe thead th {\n",
       "        text-align: right;\n",
       "    }\n",
       "</style>\n",
       "<table border=\"1\" class=\"dataframe\">\n",
       "  <thead>\n",
       "    <tr style=\"text-align: right;\">\n",
       "      <th></th>\n",
       "      <th>weight</th>\n",
       "      <th>hhsize</th>\n",
       "      <th>hh_under5</th>\n",
       "      <th>hh_disability</th>\n",
       "      <th>hhbill_year</th>\n",
       "      <th>hhbill_month</th>\n",
       "      <th>notice_year</th>\n",
       "      <th>disconnect_year</th>\n",
       "      <th>notice_month</th>\n",
       "      <th>disconnect_month</th>\n",
       "      <th>...</th>\n",
       "      <th>covid_lostinsurance</th>\n",
       "      <th>fpl</th>\n",
       "      <th>under_100_fpl</th>\n",
       "      <th>FPL_100_150</th>\n",
       "      <th>FPL_150_200</th>\n",
       "      <th>covid_symptoms</th>\n",
       "      <th>positive_covid_test</th>\n",
       "      <th>pcturban</th>\n",
       "      <th>newid</th>\n",
       "      <th>wave1</th>\n",
       "    </tr>\n",
       "  </thead>\n",
       "  <tbody>\n",
       "    <tr>\n",
       "      <th>0</th>\n",
       "      <td>1.2454</td>\n",
       "      <td>6</td>\n",
       "      <td>0</td>\n",
       "      <td>0</td>\n",
       "      <td>0</td>\n",
       "      <td>0</td>\n",
       "      <td>0</td>\n",
       "      <td>0</td>\n",
       "      <td>0</td>\n",
       "      <td>0</td>\n",
       "      <td>...</td>\n",
       "      <td>0</td>\n",
       "      <td>1</td>\n",
       "      <td>1</td>\n",
       "      <td>0</td>\n",
       "      <td>0</td>\n",
       "      <td>0.0</td>\n",
       "      <td>0.0</td>\n",
       "      <td>NaN</td>\n",
       "      <td>2207</td>\n",
       "      <td>1</td>\n",
       "    </tr>\n",
       "    <tr>\n",
       "      <th>1</th>\n",
       "      <td>1.0921</td>\n",
       "      <td>4</td>\n",
       "      <td>1</td>\n",
       "      <td>0</td>\n",
       "      <td>1</td>\n",
       "      <td>1</td>\n",
       "      <td>2</td>\n",
       "      <td>0</td>\n",
       "      <td>1</td>\n",
       "      <td>0</td>\n",
       "      <td>...</td>\n",
       "      <td>0</td>\n",
       "      <td>3</td>\n",
       "      <td>0</td>\n",
       "      <td>0</td>\n",
       "      <td>1</td>\n",
       "      <td>0.0</td>\n",
       "      <td>0.0</td>\n",
       "      <td>0.000000</td>\n",
       "      <td>2138</td>\n",
       "      <td>1</td>\n",
       "    </tr>\n",
       "    <tr>\n",
       "      <th>2</th>\n",
       "      <td>0.9179</td>\n",
       "      <td>3</td>\n",
       "      <td>0</td>\n",
       "      <td>0</td>\n",
       "      <td>0</td>\n",
       "      <td>0</td>\n",
       "      <td>0</td>\n",
       "      <td>0</td>\n",
       "      <td>0</td>\n",
       "      <td>0</td>\n",
       "      <td>...</td>\n",
       "      <td>0</td>\n",
       "      <td>3</td>\n",
       "      <td>0</td>\n",
       "      <td>0</td>\n",
       "      <td>1</td>\n",
       "      <td>0.0</td>\n",
       "      <td>0.0</td>\n",
       "      <td>0.114031</td>\n",
       "      <td>2249</td>\n",
       "      <td>1</td>\n",
       "    </tr>\n",
       "    <tr>\n",
       "      <th>3</th>\n",
       "      <td>2.8077</td>\n",
       "      <td>3</td>\n",
       "      <td>0</td>\n",
       "      <td>2</td>\n",
       "      <td>1</td>\n",
       "      <td>1</td>\n",
       "      <td>4</td>\n",
       "      <td>2</td>\n",
       "      <td>1</td>\n",
       "      <td>1</td>\n",
       "      <td>...</td>\n",
       "      <td>0</td>\n",
       "      <td>1</td>\n",
       "      <td>1</td>\n",
       "      <td>0</td>\n",
       "      <td>0</td>\n",
       "      <td>0.0</td>\n",
       "      <td>0.0</td>\n",
       "      <td>2.668982</td>\n",
       "      <td>1937</td>\n",
       "      <td>1</td>\n",
       "    </tr>\n",
       "    <tr>\n",
       "      <th>4</th>\n",
       "      <td>0.5927</td>\n",
       "      <td>3</td>\n",
       "      <td>0</td>\n",
       "      <td>0</td>\n",
       "      <td>1</td>\n",
       "      <td>1</td>\n",
       "      <td>1</td>\n",
       "      <td>0</td>\n",
       "      <td>1</td>\n",
       "      <td>0</td>\n",
       "      <td>...</td>\n",
       "      <td>0</td>\n",
       "      <td>1</td>\n",
       "      <td>1</td>\n",
       "      <td>0</td>\n",
       "      <td>0</td>\n",
       "      <td>0.0</td>\n",
       "      <td>0.0</td>\n",
       "      <td>4.380000</td>\n",
       "      <td>1240</td>\n",
       "      <td>1</td>\n",
       "    </tr>\n",
       "  </tbody>\n",
       "</table>\n",
       "<p>5 rows × 53 columns</p>\n",
       "</div>"
      ],
      "text/plain": [
       "   weight  hhsize  hh_under5  hh_disability  hhbill_year  hhbill_month  \\\n",
       "0  1.2454       6          0              0            0             0   \n",
       "1  1.0921       4          1              0            1             1   \n",
       "2  0.9179       3          0              0            0             0   \n",
       "3  2.8077       3          0              2            1             1   \n",
       "4  0.5927       3          0              0            1             1   \n",
       "\n",
       "   notice_year  disconnect_year  notice_month  disconnect_month  ...  \\\n",
       "0            0                0             0                 0  ...   \n",
       "1            2                0             1                 0  ...   \n",
       "2            0                0             0                 0  ...   \n",
       "3            4                2             1                 1  ...   \n",
       "4            1                0             1                 0  ...   \n",
       "\n",
       "   covid_lostinsurance  fpl  under_100_fpl  FPL_100_150  FPL_150_200  \\\n",
       "0                    0    1              1            0            0   \n",
       "1                    0    3              0            0            1   \n",
       "2                    0    3              0            0            1   \n",
       "3                    0    1              1            0            0   \n",
       "4                    0    1              1            0            0   \n",
       "\n",
       "   covid_symptoms  positive_covid_test  pcturban  newid  wave1  \n",
       "0             0.0                  0.0       NaN   2207      1  \n",
       "1             0.0                  0.0  0.000000   2138      1  \n",
       "2             0.0                  0.0  0.114031   2249      1  \n",
       "3             0.0                  0.0  2.668982   1937      1  \n",
       "4             0.0                  0.0  4.380000   1240      1  \n",
       "\n",
       "[5 rows x 53 columns]"
      ]
     },
     "execution_count": 60,
     "metadata": {},
     "output_type": "execute_result"
    }
   ],
   "source": [
    "#Load data from a public repository:\n",
    "data  = pd.read_csv(\"https://figshare.com/ndownloader/files/41905695\")\n",
    "data.head()"
   ]
  },
  {
   "cell_type": "markdown",
   "id": "e3846de6-1519-43c3-ad09-f3301d6c6cb9",
   "metadata": {},
   "source": [
    "There are several categorical outcome variables in the data set, but we will focus on \"notice_year\", which shows whether a household received a disconnection notice in the past year. "
   ]
  },
  {
   "cell_type": "code",
   "execution_count": 50,
   "id": "e7d5e5c8-90f4-4963-b6b7-25c25992a42c",
   "metadata": {
    "tags": []
   },
   "outputs": [
    {
     "data": {
      "text/plain": [
       "0       False\n",
       "1        True\n",
       "2       False\n",
       "3        True\n",
       "4        True\n",
       "        ...  \n",
       "2376    False\n",
       "2377    False\n",
       "2378    False\n",
       "2379    False\n",
       "2380     True\n",
       "Name: notice_year, Length: 2381, dtype: bool"
      ]
     },
     "execution_count": 50,
     "metadata": {},
     "output_type": "execute_result"
    }
   ],
   "source": [
    "(data['notice_year'] > 0)"
   ]
  },
  {
   "cell_type": "code",
   "execution_count": 51,
   "id": "0df7fd0c-57ec-4d1b-85a0-6e2d5bcff77c",
   "metadata": {
    "tags": []
   },
   "outputs": [],
   "source": [
    "# Make Notice binary\n",
    "data['notice_year_binary'] = (data['notice_year'] > 0).astype(int)\n",
    "\n",
    "# Make Disconnect binary\n",
    "data['disconnect_year_binary'] = (data['disconnect_year'] > 0).astype(int)\n",
    "\n",
    "# Year but not one month\n",
    "data['hhbill_justyear'] = ((data['hhbill_year'] == 1) & (data['hhbill_month'] != 1)).astype(int)\n",
    "data['notice_justyear'] = ((data['notice_year_binary'] == 1) & (data['notice_month'] != 1)).astype(int)\n",
    "data['disconnect_justyear'] = ((data['disconnect_year_binary'] == 1) & (data['disconnect_month'] != 1)).astype(int)\n",
    "\n",
    "# Create COVID binaries\n",
    "data['covid_rentstruggles'] = (data['covid_rent'] > 3).astype(int)\n",
    "data['covid_foodstruggles'] = (data['covid_feedfamily'] > 3).astype(int)\n",
    "data['covid_medicalstruggles'] = (data['covid_medicalcare'] > 3).astype(int)\n",
    "data['covid_lostjobhours'] = (data['covid_lostjobhours'] == 1).astype(int)"
   ]
  },
  {
   "cell_type": "code",
   "execution_count": 52,
   "id": "88fdfd77-afa8-4767-91d3-536758e35c83",
   "metadata": {
    "tags": []
   },
   "outputs": [],
   "source": [
    "# Update column values to reflect meaningful labels (optional step)\n",
    "data['hh_under5'] = (data['hh_under5'] > 0).astype(int)\n",
    "data['hh_disability'] = (data['hh_disability'] > 0).astype(int)\n",
    "data['over_150_fpl'] = (data['fpl'] == 3).astype(int)\n",
    "data['between_100_150_fpl'] = (data['fpl'] == 2).astype(int)\n",
    "data['govassist_yr_binary'] = (data['gov_assistance_year'] > 0).astype(int)\n",
    "data['govassist_mo_binary'] = (data['gov_assistance_month'] > 0).astype(int)\n",
    "data['dwelling_condition'] = (data['dwelling_condition'] > 0).astype(int)\n",
    "data['home'] = ((data['dwelling_type'] == 2) | (data['dwelling_type'] == 3) | (data['dwelling_type'] == 4)).astype(int)\n",
    "data['mobile'] = (data['dwelling_type'] == 1).astype(int)\n",
    "data['apartment'] = (data['dwelling_type'] == 2).astype(int)\n",
    "data['attached_home'] = (data['dwelling_type'] == 3).astype(int)"
   ]
  },
  {
   "cell_type": "code",
   "execution_count": 53,
   "id": "36f4fa49-c106-42d4-88fe-2d4fcefc4020",
   "metadata": {
    "tags": []
   },
   "outputs": [
    {
     "data": {
      "text/html": [
       "<div>\n",
       "<style scoped>\n",
       "    .dataframe tbody tr th:only-of-type {\n",
       "        vertical-align: middle;\n",
       "    }\n",
       "\n",
       "    .dataframe tbody tr th {\n",
       "        vertical-align: top;\n",
       "    }\n",
       "\n",
       "    .dataframe thead th {\n",
       "        text-align: right;\n",
       "    }\n",
       "</style>\n",
       "<table border=\"1\" class=\"dataframe\">\n",
       "  <thead>\n",
       "    <tr style=\"text-align: right;\">\n",
       "      <th></th>\n",
       "      <th>weight</th>\n",
       "      <th>hhsize</th>\n",
       "      <th>hh_under5</th>\n",
       "      <th>hh_disability</th>\n",
       "      <th>hhbill_year</th>\n",
       "      <th>hhbill_month</th>\n",
       "      <th>notice_year</th>\n",
       "      <th>disconnect_year</th>\n",
       "      <th>notice_month</th>\n",
       "      <th>disconnect_month</th>\n",
       "      <th>...</th>\n",
       "      <th>covid_foodstruggles</th>\n",
       "      <th>covid_medicalstruggles</th>\n",
       "      <th>over_150_fpl</th>\n",
       "      <th>between_100_150_fpl</th>\n",
       "      <th>govassist_yr_binary</th>\n",
       "      <th>govassist_mo_binary</th>\n",
       "      <th>home</th>\n",
       "      <th>mobile</th>\n",
       "      <th>apartment</th>\n",
       "      <th>attached_home</th>\n",
       "    </tr>\n",
       "  </thead>\n",
       "  <tbody>\n",
       "    <tr>\n",
       "      <th>0</th>\n",
       "      <td>1.2454</td>\n",
       "      <td>6</td>\n",
       "      <td>0</td>\n",
       "      <td>0</td>\n",
       "      <td>0</td>\n",
       "      <td>0</td>\n",
       "      <td>0</td>\n",
       "      <td>0</td>\n",
       "      <td>0</td>\n",
       "      <td>0</td>\n",
       "      <td>...</td>\n",
       "      <td>0</td>\n",
       "      <td>0</td>\n",
       "      <td>0</td>\n",
       "      <td>0</td>\n",
       "      <td>0</td>\n",
       "      <td>0</td>\n",
       "      <td>1</td>\n",
       "      <td>0</td>\n",
       "      <td>1</td>\n",
       "      <td>0</td>\n",
       "    </tr>\n",
       "    <tr>\n",
       "      <th>1</th>\n",
       "      <td>1.0921</td>\n",
       "      <td>4</td>\n",
       "      <td>1</td>\n",
       "      <td>0</td>\n",
       "      <td>1</td>\n",
       "      <td>1</td>\n",
       "      <td>2</td>\n",
       "      <td>0</td>\n",
       "      <td>1</td>\n",
       "      <td>0</td>\n",
       "      <td>...</td>\n",
       "      <td>0</td>\n",
       "      <td>0</td>\n",
       "      <td>1</td>\n",
       "      <td>0</td>\n",
       "      <td>0</td>\n",
       "      <td>0</td>\n",
       "      <td>1</td>\n",
       "      <td>0</td>\n",
       "      <td>1</td>\n",
       "      <td>0</td>\n",
       "    </tr>\n",
       "    <tr>\n",
       "      <th>2</th>\n",
       "      <td>0.9179</td>\n",
       "      <td>3</td>\n",
       "      <td>0</td>\n",
       "      <td>0</td>\n",
       "      <td>0</td>\n",
       "      <td>0</td>\n",
       "      <td>0</td>\n",
       "      <td>0</td>\n",
       "      <td>0</td>\n",
       "      <td>0</td>\n",
       "      <td>...</td>\n",
       "      <td>1</td>\n",
       "      <td>1</td>\n",
       "      <td>1</td>\n",
       "      <td>0</td>\n",
       "      <td>1</td>\n",
       "      <td>0</td>\n",
       "      <td>1</td>\n",
       "      <td>0</td>\n",
       "      <td>0</td>\n",
       "      <td>1</td>\n",
       "    </tr>\n",
       "    <tr>\n",
       "      <th>3</th>\n",
       "      <td>2.8077</td>\n",
       "      <td>3</td>\n",
       "      <td>0</td>\n",
       "      <td>1</td>\n",
       "      <td>1</td>\n",
       "      <td>1</td>\n",
       "      <td>4</td>\n",
       "      <td>2</td>\n",
       "      <td>1</td>\n",
       "      <td>1</td>\n",
       "      <td>...</td>\n",
       "      <td>0</td>\n",
       "      <td>1</td>\n",
       "      <td>0</td>\n",
       "      <td>0</td>\n",
       "      <td>1</td>\n",
       "      <td>1</td>\n",
       "      <td>1</td>\n",
       "      <td>0</td>\n",
       "      <td>1</td>\n",
       "      <td>0</td>\n",
       "    </tr>\n",
       "    <tr>\n",
       "      <th>4</th>\n",
       "      <td>0.5927</td>\n",
       "      <td>3</td>\n",
       "      <td>0</td>\n",
       "      <td>0</td>\n",
       "      <td>1</td>\n",
       "      <td>1</td>\n",
       "      <td>1</td>\n",
       "      <td>0</td>\n",
       "      <td>1</td>\n",
       "      <td>0</td>\n",
       "      <td>...</td>\n",
       "      <td>0</td>\n",
       "      <td>0</td>\n",
       "      <td>0</td>\n",
       "      <td>0</td>\n",
       "      <td>1</td>\n",
       "      <td>0</td>\n",
       "      <td>1</td>\n",
       "      <td>0</td>\n",
       "      <td>0</td>\n",
       "      <td>1</td>\n",
       "    </tr>\n",
       "  </tbody>\n",
       "</table>\n",
       "<p>5 rows × 69 columns</p>\n",
       "</div>"
      ],
      "text/plain": [
       "   weight  hhsize  hh_under5  hh_disability  hhbill_year  hhbill_month  \\\n",
       "0  1.2454       6          0              0            0             0   \n",
       "1  1.0921       4          1              0            1             1   \n",
       "2  0.9179       3          0              0            0             0   \n",
       "3  2.8077       3          0              1            1             1   \n",
       "4  0.5927       3          0              0            1             1   \n",
       "\n",
       "   notice_year  disconnect_year  notice_month  disconnect_month  ...  \\\n",
       "0            0                0             0                 0  ...   \n",
       "1            2                0             1                 0  ...   \n",
       "2            0                0             0                 0  ...   \n",
       "3            4                2             1                 1  ...   \n",
       "4            1                0             1                 0  ...   \n",
       "\n",
       "   covid_foodstruggles  covid_medicalstruggles  over_150_fpl  \\\n",
       "0                    0                       0             0   \n",
       "1                    0                       0             1   \n",
       "2                    1                       1             1   \n",
       "3                    0                       1             0   \n",
       "4                    0                       0             0   \n",
       "\n",
       "   between_100_150_fpl  govassist_yr_binary  govassist_mo_binary  home  \\\n",
       "0                    0                    0                    0     1   \n",
       "1                    0                    0                    0     1   \n",
       "2                    0                    1                    0     1   \n",
       "3                    0                    1                    1     1   \n",
       "4                    0                    1                    0     1   \n",
       "\n",
       "   mobile  apartment  attached_home  \n",
       "0       0          1              0  \n",
       "1       0          1              0  \n",
       "2       0          0              1  \n",
       "3       0          1              0  \n",
       "4       0          0              1  \n",
       "\n",
       "[5 rows x 69 columns]"
      ]
     },
     "execution_count": 53,
     "metadata": {},
     "output_type": "execute_result"
    }
   ],
   "source": [
    "data.head()"
   ]
  },
  {
   "cell_type": "code",
   "execution_count": 54,
   "id": "1d76b70a-d6b9-486b-9daf-b6c62bb73c37",
   "metadata": {
    "tags": []
   },
   "outputs": [
    {
     "data": {
      "text/plain": [
       "weight                 2381\n",
       "hhsize                 2381\n",
       "hh_under5              2381\n",
       "hh_disability          2381\n",
       "hhbill_year            2381\n",
       "                       ... \n",
       "govassist_mo_binary    2381\n",
       "home                   2381\n",
       "mobile                 2381\n",
       "apartment              2381\n",
       "attached_home          2381\n",
       "Length: 69, dtype: int64"
      ]
     },
     "execution_count": 54,
     "metadata": {},
     "output_type": "execute_result"
    }
   ],
   "source": [
    "data.count()"
   ]
  },
  {
   "cell_type": "code",
   "execution_count": 56,
   "id": "0b8c3de3-452d-450d-be85-28a79730fa44",
   "metadata": {},
   "outputs": [],
   "source": [
    "# Define variables for demographics and COVID factors\n",
    "demographics = ['hh_under5', 'hh_disability', 'unemployed', 'electronic_device', 'retired', 'black', 'hispanic', 'other', 'female', 'age', 'under_100_fpl', 'apartment', 'attached_home']\n",
    "covid_factors = ['stimulus', 'covid_impacts', 'covid_lostjobhours', 'covid_symptoms']"
   ]
  },
  {
   "cell_type": "code",
   "execution_count": 58,
   "id": "33b31ed9-c922-49c4-860e-1a1eaf6673be",
   "metadata": {
    "tags": []
   },
   "outputs": [
    {
     "name": "stdout",
     "output_type": "stream",
     "text": [
      "Optimization terminated successfully.\n",
      "         Current function value: 0.491633\n",
      "         Iterations 6\n"
     ]
    }
   ],
   "source": [
    "X = data[demographics]\n",
    "y = data['notice_year_binary']\n",
    "X = sm.add_constant(X)\n",
    "model = sm.Logit(y, X)\n",
    "results = model.fit()"
   ]
  },
  {
   "cell_type": "code",
   "execution_count": 59,
   "id": "f683547d-6720-48f7-b071-1fc6f72e027c",
   "metadata": {
    "tags": []
   },
   "outputs": [
    {
     "name": "stdout",
     "output_type": "stream",
     "text": [
      "                           Logit Regression Results                           \n",
      "==============================================================================\n",
      "Dep. Variable:     notice_year_binary   No. Observations:                 2381\n",
      "Model:                          Logit   Df Residuals:                     2367\n",
      "Method:                           MLE   Df Model:                           13\n",
      "Date:                Mon, 07 Aug 2023   Pseudo R-squ.:                 0.09789\n",
      "Time:                        14:50:32   Log-Likelihood:                -1170.6\n",
      "converged:                       True   LL-Null:                       -1297.6\n",
      "Covariance Type:            nonrobust   LLR p-value:                 9.236e-47\n",
      "=====================================================================================\n",
      "                        coef    std err          z      P>|z|      [0.025      0.975]\n",
      "-------------------------------------------------------------------------------------\n",
      "const                -1.0817      0.217     -4.982      0.000      -1.507      -0.656\n",
      "hh_under5             0.7796      0.123      6.319      0.000       0.538       1.021\n",
      "hh_disability         0.1708      0.112      1.523      0.128      -0.049       0.391\n",
      "unemployed            0.0117      0.122      0.096      0.924      -0.227       0.250\n",
      "electronic_device     0.8716      0.127      6.839      0.000       0.622       1.121\n",
      "retired              -0.9146      0.211     -4.325      0.000      -1.329      -0.500\n",
      "black                 0.5984      0.138      4.338      0.000       0.328       0.869\n",
      "hispanic              0.3539      0.133      2.669      0.008       0.094       0.614\n",
      "other                 0.1453      0.191      0.762      0.446      -0.228       0.519\n",
      "female               -0.0793      0.105     -0.756      0.450      -0.285       0.126\n",
      "age                  -0.0109      0.004     -2.725      0.006      -0.019      -0.003\n",
      "under_100_fpl         0.1788      0.107      1.679      0.093      -0.030       0.388\n",
      "apartment            -0.0855      0.135     -0.635      0.525      -0.349       0.178\n",
      "attached_home        -0.2485      0.130     -1.908      0.056      -0.504       0.007\n",
      "=====================================================================================\n"
     ]
    }
   ],
   "source": [
    "print(results.summary())"
   ]
  },
  {
   "cell_type": "markdown",
   "id": "05eb5144-e255-4617-8a6d-27c130c7a9cf",
   "metadata": {},
   "source": [
    "Coefficients are **log odds**, and need to be converted to **odds** for interepretation. \n",
    "\n",
    "The following factors are siginificantly postively associated with energy insecurity: \n",
    "- Househlds with children under 5 \n",
    "- At least one member of the household relies on an electronic medical device\n",
    "- At least one family member with a disability \n",
    "- A black or hispanic household. "
   ]
  },
  {
   "cell_type": "markdown",
   "id": "0870c1f5-0c10-4075-9d5c-ed0c2f8f7874",
   "metadata": {},
   "source": [
    "### Race and energy insecutity\n",
    "Black households experienced 1.82 times greater odds of receiving a disconnection notice than white household respondends. "
   ]
  },
  {
   "cell_type": "code",
   "execution_count": 24,
   "id": "2550f3e5-6096-4af1-8ff6-f22d2b0f2ab1",
   "metadata": {
    "tags": []
   },
   "outputs": [
    {
     "data": {
      "text/plain": [
       "1.8192057413785463"
      ]
     },
     "execution_count": 24,
     "metadata": {},
     "output_type": "execute_result"
    }
   ],
   "source": [
    "np.exp(0.5984)"
   ]
  },
  {
   "cell_type": "code",
   "execution_count": 34,
   "id": "2bc038e1-f707-4012-ac5b-f81f1b895fdb",
   "metadata": {
    "tags": []
   },
   "outputs": [
    {
     "data": {
      "text/plain": [
       "array([1.38818897, 2.38452514])"
      ]
     },
     "execution_count": 34,
     "metadata": {},
     "output_type": "execute_result"
    }
   ],
   "source": [
    "np.exp([0.328, 0.869])"
   ]
  },
  {
   "cell_type": "markdown",
   "id": "aaece589-1c8a-4288-9c9f-676d2418d0e9",
   "metadata": {},
   "source": [
    "Hispanic households faced disconnection at 1.4 times greater odds than White household respondents."
   ]
  },
  {
   "cell_type": "code",
   "execution_count": 25,
   "id": "a2a2ed27-5be0-418b-b4fd-35ba445a30db",
   "metadata": {
    "tags": []
   },
   "outputs": [
    {
     "data": {
      "text/plain": [
       "1.424612718084779"
      ]
     },
     "execution_count": 25,
     "metadata": {},
     "output_type": "execute_result"
    }
   ],
   "source": [
    "np.exp(0.3539)"
   ]
  }
 ],
 "metadata": {
  "kernelspec": {
   "display_name": "hpc-bootcamp",
   "language": "python",
   "name": "hpc-bootcamp"
  },
  "language_info": {
   "codemirror_mode": {
    "name": "ipython",
    "version": 3
   },
   "file_extension": ".py",
   "mimetype": "text/x-python",
   "name": "python",
   "nbconvert_exporter": "python",
   "pygments_lexer": "ipython3",
   "version": "3.11.4"
  }
 },
 "nbformat": 4,
 "nbformat_minor": 5
}
